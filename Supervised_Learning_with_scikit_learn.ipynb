{
  "nbformat": 4,
  "nbformat_minor": 0,
  "metadata": {
    "colab": {
      "provenance": [],
      "authorship_tag": "ABX9TyPhOPAfmmE5tbIA6wjwIphY",
      "include_colab_link": true
    },
    "kernelspec": {
      "name": "python3",
      "display_name": "Python 3"
    },
    "language_info": {
      "name": "python"
    }
  },
  "cells": [
    {
      "cell_type": "markdown",
      "metadata": {
        "id": "view-in-github",
        "colab_type": "text"
      },
      "source": [
        "<a href=\"https://colab.research.google.com/github/eisBlume0901/machine-learning-google-colab/blob/main/Supervised_Learning_with_scikit_learn.ipynb\" target=\"_parent\"><img src=\"https://colab.research.google.com/assets/colab-badge.svg\" alt=\"Open In Colab\"/></a>"
      ]
    },
    {
      "cell_type": "markdown",
      "source": [
        "**Unsupervised Learning** - uncovering hidden patterns from unlabeled data\n",
        "- Example: **Clustering** - Grouping customers into distinct categories\n",
        "\n",
        "\n",
        "**Supervised Learning** - predicted values are known\n",
        "- Example: Predict the target values of unseen data, given the features\n",
        "- Types: **Classification, Binary Classification** (categories), **Regression** (continuous)\n",
        "\n",
        "Naming Conventions\n",
        "1. **Feature** = predictor variable = independent variable\n",
        "2. **Target variable** = dependent variable = response variable\n",
        "\n",
        "Requirements:\n",
        "1. No missing values\n",
        "2. Data in numeric format\n",
        "3. Data stored in pandas DataFrame or NumPy array\n",
        "\n",
        "To achieve the requirements:\n",
        "- Perform Exploratory Data Analysis (EDA) first such as Descriptive Analysis and Data Visualizations\n",
        "\n",
        "**scikit-learn syntax**\n",
        "\n",
        "from sklearn.module import Model\n",
        "\n",
        "model = Model()\n",
        "\n",
        "model.fit(X, y)\n",
        "\n",
        "predictions = model.predict(X_new)\n",
        "\n",
        "print(predictions)\n",
        "\n",
        "Note: The syntax is applicable to all supervised learning algorithms."
      ],
      "metadata": {
        "id": "sy5s_X2RMwgx"
      }
    },
    {
      "cell_type": "markdown",
      "source": [
        "Some definition of terms\n",
        "1. Churn - refers to the loss of customers or subscribers\n",
        "2."
      ],
      "metadata": {
        "id": "0QEgsDFnQuCA"
      }
    },
    {
      "cell_type": "markdown",
      "source": [
        "Classifying labels of unseen data\n",
        "1. **Build a model**\n",
        "2. Model **learns from the labeled data** we pass to it (training data)\n",
        "3. **Pass unlabeled data** to the model **as input**\n",
        "4. Model **predicts** the labels of the **unseen data**"
      ],
      "metadata": {
        "id": "DELXzR5ERntI"
      }
    },
    {
      "cell_type": "markdown",
      "source": [
        "k-Nearest Neighbors (KNN)\n",
        "\n",
        "Classifying the label of a data point by prediction by\n",
        "- looking at the k closest labeled data points\n",
        "- taking a majority vote\n",
        "- Example: [KNN Graph with k equals to 5](https://tse4.mm.bing.net/th/id/OIP.GkuKUyUbCEJV5vDmvpMlIAHaE-?r=0&rs=1&pid=ImgDetMain&o=7&rm=3)\n",
        "\n",
        "syntax to fit a classifier\n",
        "\n",
        "from sklearn.neighbors import KNeighborsClassifier\n",
        "\n",
        "X = churn_df[[\"x1\", \"x2\"]].values\n",
        "\n",
        "y = churn_df[\"y1\"].values\n",
        "\n",
        "print(X.shape, y.shape)\n",
        "\n",
        "knn = KNeighborsClassifier(n_neigbors=desired_k)\n",
        "\n",
        "knn.fit(X, y)\n",
        "\n",
        "Reminders:\n",
        "- x and y should have the same data row length\n",
        "- x is feature (independent)\n",
        "- y is predictor (dependent)\n",
        "\n",
        "syntax to predict unlabeled data (the classifier syntax already trained it and we are learning for new unlabeled data)\n",
        "\n",
        "X_new = np.array([[], [], []]); # Depending on columns\n",
        "\n",
        "y_predictions = knn.predict(X_new)\n",
        "\n",
        "print('Predictions : {}'.format(y_predictions))"
      ],
      "metadata": {
        "id": "1v2ww6P2SGhw"
      }
    },
    {
      "cell_type": "code",
      "execution_count": null,
      "metadata": {
        "id": "uelK0_AnLojz"
      },
      "outputs": [],
      "source": []
    }
  ]
}